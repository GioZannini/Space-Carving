{
 "cells": [
  {
   "cell_type": "code",
   "execution_count": 1,
   "id": "e69aaab3",
   "metadata": {},
   "outputs": [],
   "source": [
    "import cv2 as cv\n",
    "import numpy as np\n",
    "from tqdm.notebook import tqdm"
   ]
  },
  {
   "cell_type": "markdown",
   "id": "92abb9c8",
   "metadata": {},
   "source": [
    "## Camera calibration\n"
   ]
  },
  {
   "cell_type": "code",
   "execution_count": 2,
   "id": "017b6774",
   "metadata": {},
   "outputs": [],
   "source": [
    "class VideoReader(cv.VideoCapture):\n",
    "    def __init__(self, folder, video, initial_frame=0):\n",
    "        super().__init__(folder + video)\n",
    "        self.actual_frame = initial_frame\n",
    "        self.total_frames = self.get(cv.CAP_PROP_FRAME_COUNT)\n",
    "\n",
    "    def get_actual_frame(self, shape=None, color=False):\n",
    "        self.set(cv.CAP_PROP_POS_FRAMES, self.actual_frame)\n",
    "        _, I = self.read()\n",
    "        if shape:\n",
    "            I = I[:, shape[0]:shape[1]]\n",
    "        if color:\n",
    "            I = cv.cvtColor(I, cv.COLOR_BGR2RGB)\n",
    "        else:\n",
    "            I = cv.cvtColor(I, cv.COLOR_BGR2GRAY)\n",
    "        return I\n",
    "    \n",
    "    def get_frame_id(self):\n",
    "        return self.actual_frame\n",
    "    \n",
    "    def get_total_frames(self):\n",
    "        return self.total_frames\n",
    "    \n",
    "    def next_frame(self, plus_n=1):\n",
    "        self.actual_frame += plus_n\n",
    "    \n",
    "    def is_finished(self):\n",
    "        return not self.actual_frame < self.total_frames"
   ]
  },
  {
   "cell_type": "code",
   "execution_count": 3,
   "id": "5794754d",
   "metadata": {},
   "outputs": [],
   "source": [
    "# which video\n",
    "FOLDER = \"data/\"\n",
    "VIDEO = \"calibration.mp4\""
   ]
  },
  {
   "cell_type": "code",
   "execution_count": null,
   "id": "fe4a5423",
   "metadata": {
    "scrolled": false
   },
   "outputs": [],
   "source": [
    "# chess grid\n",
    "grid = (9, 6)\n",
    "# create object video\n",
    "video = VideoReader(FOLDER, VIDEO, 0)\n",
    "# number of frames to process\n",
    "n_frames = 30\n",
    "# calculate skip in order to have a different orientation of chess each time\n",
    "skip = video.get_total_frames() // n_frames\n",
    "condition_to_exit = True    \n",
    "while condition_to_exit:\n",
    "    # prepare object points, like (0,0,0), (1,0,0), (2,0,0) ....,(6,5,0)\n",
    "    points_3d = np.zeros((np.prod(grid),3), np.float32)\n",
    "    points_3d[:,:2] = np.mgrid[0:grid[0], 0:grid[1]].T.reshape(-1,2)\n",
    "    # Arrays to store object points and image points from all the images.\n",
    "    # 3d point in real world space\n",
    "    real_3d_points_list = [] \n",
    "    # 2d points in image plane\n",
    "    image_2d_points_list = [] \n",
    "    pbar = tqdm(total=video.total_frames)\n",
    "    # find contours\n",
    "    while not video.is_finished():\n",
    "        # take frame\n",
    "        I_g = video.get_actual_frame()\n",
    "        # Find the chess board corners\n",
    "        ret, corners = cv.findChessboardCorners(I_g, grid, cv.CALIB_CB_ADAPTIVE_THRESH | cv.CALIB_CB_FAST_CHECK | cv.CALIB_CB_NORMALIZE_IMAGE)\n",
    "        # If found, add points\n",
    "        if ret == True:\n",
    "            # add real 3d points\n",
    "            real_3d_points_list.append(points_3d)\n",
    "            # refine 2d points\n",
    "            better_corners = cv.cornerSubPix(I_g, corners, (11,11), (-1,-1), (cv.TERM_CRITERIA_EPS | cv.TERM_CRITERIA_MAX_ITER, 30, 0.001))\n",
    "            # add 2d points\n",
    "            image_2d_points_list.append(better_corners)\n",
    "        # change frame\n",
    "        video.next_frame(skip)\n",
    "        pbar.update(skip)\n",
    "    pbar.close()\n",
    "    # if there are sufficient data it exits from loop\n",
    "    if len(image_2d_points_list) >= 20:\n",
    "        condition_to_exit = False\n",
    "    else:\n",
    "        n_frames += 10\n",
    "        # calculate skip in order to have a different orientation of chess each time\n",
    "        skip = video.get_total_frames() // n_frames\n",
    "        if skip < 1:\n",
    "            raise ValueError(\"The algorithm isn't able to determine a sufficient number of corners\")\n",
    "    \n",
    "video.release()\n",
    "# calibrate camera\n",
    "ret, mtx, dist, rvecs, tvecs = cv.calibrateCamera(real_3d_points_list, image_2d_points_list, I_g.shape[::-1], None, None)\n",
    "# save dictionary as file\n",
    "np.save('intrinsic_parameters.npy', {K:mtx, distortion:dist})"
   ]
  }
 ],
 "metadata": {
  "kernelspec": {
   "display_name": "Python 3 (ipykernel)",
   "language": "python",
   "name": "python3"
  },
  "language_info": {
   "codemirror_mode": {
    "name": "ipython",
    "version": 3
   },
   "file_extension": ".py",
   "mimetype": "text/x-python",
   "name": "python",
   "nbconvert_exporter": "python",
   "pygments_lexer": "ipython3",
   "version": "3.8.16"
  }
 },
 "nbformat": 4,
 "nbformat_minor": 5
}
